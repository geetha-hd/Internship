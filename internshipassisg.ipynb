{
 "cells": [
  {
   "cell_type": "code",
   "execution_count": 11,
   "metadata": {},
   "outputs": [
    {
     "ename": "ModuleNotFoundError",
     "evalue": "No module named 'MySQLdb'",
     "output_type": "error",
     "traceback": [
      "\u001b[1;31m---------------------------------------------------------------------------\u001b[0m",
      "\u001b[1;31mModuleNotFoundError\u001b[0m                       Traceback (most recent call last)",
      "\u001b[1;32m<ipython-input-11-b2f7d861d01e>\u001b[0m in \u001b[0;36m<module>\u001b[1;34m()\u001b[0m\n\u001b[0;32m      1\u001b[0m \u001b[1;33m\u001b[0m\u001b[0m\n\u001b[0;32m      2\u001b[0m \u001b[1;32mimport\u001b[0m \u001b[0mxlrd\u001b[0m\u001b[1;33m\u001b[0m\u001b[0m\n\u001b[1;32m----> 3\u001b[1;33m \u001b[1;32mimport\u001b[0m \u001b[0mMySQLdb\u001b[0m\u001b[1;33m\u001b[0m\u001b[0m\n\u001b[0m\u001b[0;32m      4\u001b[0m \u001b[1;31m# Open the workbook and assign it to varaible bk and find the worksheet\u001b[0m\u001b[1;33m\u001b[0m\u001b[1;33m\u001b[0m\u001b[0m\n\u001b[0;32m      5\u001b[0m \u001b[0mbook\u001b[0m \u001b[1;33m=\u001b[0m \u001b[0mxlrd\u001b[0m\u001b[1;33m.\u001b[0m\u001b[0mopen_workbook\u001b[0m\u001b[1;33m(\u001b[0m\u001b[1;34m\"beginner_assignment01.xlsx\"\u001b[0m\u001b[1;33m)\u001b[0m\u001b[1;33m\u001b[0m\u001b[0m\n",
      "\u001b[1;31mModuleNotFoundError\u001b[0m: No module named 'MySQLdb'"
     ]
    }
   ],
   "source": [
    "#library used for extracting data from excel spreedsheets\n",
    "import xlrd \n",
    "# used to connect the database\n",
    "import MySQLdb\n",
    "# Open the workbook and assign it to varaible bk and find the worksheet\n",
    "book = xlrd.open_workbook(\"beginner_assignment01.xlsx\")\n",
    "sheet = book.sheet_by_name(product_listing) # access the worksheet by name \n",
    "\n",
    "totrows = sheet.nrows\n",
    "totcols = sheet.ncols\n",
    "print(\"number of rows : {0}, and number of cols : {1}\" .format(totrows,totcols))\n",
    "\n",
    "# Establish a MySQL connection\n",
    "database = MySQLdb.connect (host=\"localhost\", user = \"root\", passwd = \"\", db = \"sqlPython\")\n",
    "\n",
    "# Get the cursor, which is used to traverse the database, line by line\n",
    "cursor = database.cursor()\n",
    "\n",
    "# Create the INSERT INTO sql query\n",
    "query = \"\"\"INSERT INTO exercise(product_name,model_name,serial_no,GA,mrp) VALUES (%s, %s, %s, %s, %s)\"\"\"\n",
    "\n",
    "# Create a For loop to iterate through each row in the XLS file, starting at row 2 to skip the headers\n",
    "for row in range(1, sheet.nrows):\n",
    "    product_name = sheet.cell(row,0).value\n",
    "    model_name = sheet.cell(row,1).value\n",
    "    serial_no = sheet.cell(row,2).value\n",
    "    GA = sheet.cell(row,3).value\n",
    "    mrp = sheet.cell(row,4).value\n",
    "    # Assign values from each row\n",
    "    values = (product_name, model_name, serial_no, GA,mrp)\n",
    "\n",
    "    # Execute sql Query\n",
    "    cursor.execute(query, values)\n",
    "\n",
    "# Closes the previously opened cursor\n",
    "cursor.close()\n",
    "\n",
    "# Commit the transaction\n",
    "database.commit()\n",
    "\n",
    "# Close the database connection\n",
    "database.close()\n",
    "\n",
    "# Print results\n",
    "print(\"\")\n",
    "columns = str(sheet.ncols)\n",
    "rows = str(sheet.nrows)\n",
    "print (\" columns \"+ columns + \"and rows \" + rows + \" to MySQL!\")"
   ]
  },
  {
   "cell_type": "code",
   "execution_count": null,
   "metadata": {},
   "outputs": [],
   "source": []
  },
  {
   "cell_type": "code",
   "execution_count": null,
   "metadata": {},
   "outputs": [],
   "source": []
  },
  {
   "cell_type": "code",
   "execution_count": null,
   "metadata": {},
   "outputs": [],
   "source": []
  },
  {
   "cell_type": "code",
   "execution_count": null,
   "metadata": {},
   "outputs": [],
   "source": []
  }
 ],
 "metadata": {
  "kernelspec": {
   "display_name": "Python 3",
   "language": "python",
   "name": "python3"
  },
  "language_info": {
   "codemirror_mode": {
    "name": "ipython",
    "version": 3
   },
   "file_extension": ".py",
   "mimetype": "text/x-python",
   "name": "python",
   "nbconvert_exporter": "python",
   "pygments_lexer": "ipython3",
   "version": "3.6.5"
  }
 },
 "nbformat": 4,
 "nbformat_minor": 2
}
